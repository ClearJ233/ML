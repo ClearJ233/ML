{
 "cells": [
  {
   "cell_type": "markdown",
   "metadata": {},
   "source": [
    "Please submit an electronic version of your Python Jupyter notebook on NYU Brightspace. Remember that this assignment is to be done individually. Solutions will be posted a few days after the due date (on Feb 20th), so assignments submitted until that day will receive a late penalty, but no late assignments will be accepted after the solutions are posted.\n",
    "\n",
    "Total points for this HW: 10\n",
    "\n",
    "Please note: Copying and pasting other people's work is absolutely prohibited.  Any such cases will be reported to CUSP's education team and severely punished. Discussion is encouraged, and feel free to exchange ideas with your classmates, but please write your own code and do your own work."
   ]
  },
  {
   "cell_type": "markdown",
   "metadata": {
    "collapsed": true
   },
   "source": [
    "### Question 1: Accuracy and interpretability (10%)\n",
    "\n",
    "a) Describe a real-world prediction problem using urban data for which _interpretability_ of your models and results is essential, and for which it might be preferable to use decision trees rather than random forests.  Argue why this is the case. (3%)"
   ]
  },
  {
   "cell_type": "markdown",
   "metadata": {},
   "source": [
    "Your answer here.\n",
    "  - Interpretability is important when making predictions on urban data models. For example, classification and prediction of traffic data may require some subjective or accidental factors as a basis or split, and the prediction needs to be more intuitive and clear when used. The decision tree model can be better used in practice than the random forest method in these aspects. Therefore, in many cases decision tree models are better\n"
   ]
  },
  {
   "cell_type": "markdown",
   "metadata": {},
   "source": [
    "b) Describe a real-world prediction problem using urban data for which _accuracy_ is paramount and interpretability may be less important, and for which it might be preferable to use random forests rather than decision trees.  Argue why this is the case. (3%)"
   ]
  },
  {
   "cell_type": "markdown",
   "metadata": {},
   "source": [
    "Your answer here.\n",
    "\n",
    "  - For urban health and safety issues such as urban air quality conditions or crimes, accuracy is crucial and interpretability is less important. The random forest algorithm has higher prediction accuracy than the decision tree model, so the random forest algorithm is better\n"
   ]
  },
  {
   "cell_type": "markdown",
   "metadata": {},
   "source": [
    "c) Let's imagine that you want to try to get the best of both worlds (accuracy _and_ interpretability).  So you decide to start by learning a random forest classifier.  Describe at least one way of getting some interpretability out of the model by post-processing.  You could either pick a method from the literature (e.g., Domingos's work on combining multiple models or some method of computing variable importance), or come up with your own approach (doesn't have to be ground-breaking, but feel free to be creative!) (4%)"
   ]
  },
  {
   "cell_type": "markdown",
   "metadata": {},
   "source": [
    "Your answer here.\n",
    "\n",
    "  - Decision tree model based on random forest: Use the random forest to get prediction by training decision tree model\n",
    "  - Perform interpretable processing on each feature or several important features of the random forest, such as setting up PDP, etc.\n"
   ]
  },
  {
   "cell_type": "markdown",
   "metadata": {},
   "source": [
    "###  Question 2: Build a decision tree for classification, step by step, following the lecture notes. Note that the dataset has been modified, so you may get a different tree than the one shown in the lecture notes.  (30%)"
   ]
  },
  {
   "cell_type": "code",
   "execution_count": 1,
   "metadata": {},
   "outputs": [],
   "source": [
    "import pandas as pd\n",
    "import numpy as np"
   ]
  },
  {
   "cell_type": "code",
   "execution_count": 2,
   "metadata": {},
   "outputs": [
    {
     "data": {
      "text/html": [
       "<div>\n",
       "<style scoped>\n",
       "    .dataframe tbody tr th:only-of-type {\n",
       "        vertical-align: middle;\n",
       "    }\n",
       "\n",
       "    .dataframe tbody tr th {\n",
       "        vertical-align: top;\n",
       "    }\n",
       "\n",
       "    .dataframe thead th {\n",
       "        text-align: right;\n",
       "    }\n",
       "</style>\n",
       "<table border=\"1\" class=\"dataframe\">\n",
       "  <thead>\n",
       "    <tr style=\"text-align: right;\">\n",
       "      <th></th>\n",
       "      <th>MPG</th>\n",
       "      <th>cylinders</th>\n",
       "      <th>HP</th>\n",
       "      <th>weight</th>\n",
       "    </tr>\n",
       "  </thead>\n",
       "  <tbody>\n",
       "    <tr>\n",
       "      <th>0</th>\n",
       "      <td>good</td>\n",
       "      <td>4</td>\n",
       "      <td>75</td>\n",
       "      <td>light</td>\n",
       "    </tr>\n",
       "    <tr>\n",
       "      <th>1</th>\n",
       "      <td>bad</td>\n",
       "      <td>6</td>\n",
       "      <td>90</td>\n",
       "      <td>medium</td>\n",
       "    </tr>\n",
       "    <tr>\n",
       "      <th>2</th>\n",
       "      <td>bad</td>\n",
       "      <td>4</td>\n",
       "      <td>110</td>\n",
       "      <td>medium</td>\n",
       "    </tr>\n",
       "    <tr>\n",
       "      <th>3</th>\n",
       "      <td>bad</td>\n",
       "      <td>8</td>\n",
       "      <td>175</td>\n",
       "      <td>weighty</td>\n",
       "    </tr>\n",
       "    <tr>\n",
       "      <th>4</th>\n",
       "      <td>bad</td>\n",
       "      <td>6</td>\n",
       "      <td>95</td>\n",
       "      <td>medium</td>\n",
       "    </tr>\n",
       "    <tr>\n",
       "      <th>5</th>\n",
       "      <td>bad</td>\n",
       "      <td>4</td>\n",
       "      <td>94</td>\n",
       "      <td>light</td>\n",
       "    </tr>\n",
       "    <tr>\n",
       "      <th>6</th>\n",
       "      <td>bad</td>\n",
       "      <td>4</td>\n",
       "      <td>95</td>\n",
       "      <td>light</td>\n",
       "    </tr>\n",
       "    <tr>\n",
       "      <th>7</th>\n",
       "      <td>bad</td>\n",
       "      <td>8</td>\n",
       "      <td>139</td>\n",
       "      <td>weighty</td>\n",
       "    </tr>\n",
       "    <tr>\n",
       "      <th>8</th>\n",
       "      <td>bad</td>\n",
       "      <td>8</td>\n",
       "      <td>190</td>\n",
       "      <td>weighty</td>\n",
       "    </tr>\n",
       "    <tr>\n",
       "      <th>9</th>\n",
       "      <td>bad</td>\n",
       "      <td>8</td>\n",
       "      <td>145</td>\n",
       "      <td>weighty</td>\n",
       "    </tr>\n",
       "    <tr>\n",
       "      <th>10</th>\n",
       "      <td>bad</td>\n",
       "      <td>6</td>\n",
       "      <td>100</td>\n",
       "      <td>medium</td>\n",
       "    </tr>\n",
       "    <tr>\n",
       "      <th>11</th>\n",
       "      <td>good</td>\n",
       "      <td>4</td>\n",
       "      <td>92</td>\n",
       "      <td>medium</td>\n",
       "    </tr>\n",
       "    <tr>\n",
       "      <th>12</th>\n",
       "      <td>bad</td>\n",
       "      <td>6</td>\n",
       "      <td>100</td>\n",
       "      <td>weighty</td>\n",
       "    </tr>\n",
       "    <tr>\n",
       "      <th>13</th>\n",
       "      <td>bad</td>\n",
       "      <td>8</td>\n",
       "      <td>170</td>\n",
       "      <td>weighty</td>\n",
       "    </tr>\n",
       "    <tr>\n",
       "      <th>14</th>\n",
       "      <td>good</td>\n",
       "      <td>4</td>\n",
       "      <td>89</td>\n",
       "      <td>medium</td>\n",
       "    </tr>\n",
       "    <tr>\n",
       "      <th>15</th>\n",
       "      <td>good</td>\n",
       "      <td>4</td>\n",
       "      <td>65</td>\n",
       "      <td>light</td>\n",
       "    </tr>\n",
       "    <tr>\n",
       "      <th>16</th>\n",
       "      <td>bad</td>\n",
       "      <td>6</td>\n",
       "      <td>85</td>\n",
       "      <td>medium</td>\n",
       "    </tr>\n",
       "    <tr>\n",
       "      <th>17</th>\n",
       "      <td>good</td>\n",
       "      <td>4</td>\n",
       "      <td>81</td>\n",
       "      <td>light</td>\n",
       "    </tr>\n",
       "    <tr>\n",
       "      <th>18</th>\n",
       "      <td>bad</td>\n",
       "      <td>6</td>\n",
       "      <td>95</td>\n",
       "      <td>medium</td>\n",
       "    </tr>\n",
       "    <tr>\n",
       "      <th>19</th>\n",
       "      <td>good</td>\n",
       "      <td>4</td>\n",
       "      <td>93</td>\n",
       "      <td>light</td>\n",
       "    </tr>\n",
       "  </tbody>\n",
       "</table>\n",
       "</div>"
      ],
      "text/plain": [
       "     MPG  cylinders   HP   weight\n",
       "0   good          4   75    light\n",
       "1    bad          6   90   medium\n",
       "2    bad          4  110   medium\n",
       "3    bad          8  175  weighty\n",
       "4    bad          6   95   medium\n",
       "5    bad          4   94    light\n",
       "6    bad          4   95    light\n",
       "7    bad          8  139  weighty\n",
       "8    bad          8  190  weighty\n",
       "9    bad          8  145  weighty\n",
       "10   bad          6  100   medium\n",
       "11  good          4   92   medium\n",
       "12   bad          6  100  weighty\n",
       "13   bad          8  170  weighty\n",
       "14  good          4   89   medium\n",
       "15  good          4   65    light\n",
       "16   bad          6   85   medium\n",
       "17  good          4   81    light\n",
       "18   bad          6   95   medium\n",
       "19  good          4   93    light"
      ]
     },
     "execution_count": 2,
     "metadata": {},
     "output_type": "execute_result"
    }
   ],
   "source": [
    "import io\n",
    "thefile = io.StringIO('MPG,cylinders,HP,weight\\ngood,4,75,light\\nbad,6,90,medium\\nbad,4,110,medium\\nbad,8,175,weighty\\nbad,6,95,medium\\nbad,4,94,light\\nbad,4,95,light\\nbad,8,139,weighty\\nbad,8,190,weighty\\nbad,8,145,weighty\\nbad,6,100,medium\\ngood,4,92,medium\\nbad,6,100,weighty\\nbad,8,170,weighty\\ngood,4,89,medium\\ngood,4,65,light\\nbad,6,85,medium\\ngood,4,81,light\\nbad,6,95,medium\\ngood,4,93,light')\n",
    "df = pd.read_csv(thefile)\n",
    "df"
   ]
  },
  {
   "cell_type": "markdown",
   "metadata": {},
   "source": [
    "### Please use numpy and pandas to do the computation for parts a) through f).  Do not use an existing decision tree implementation like sklearn for this question."
   ]
  },
  {
   "cell_type": "markdown",
   "metadata": {},
   "source": [
    "a) Start with the entire dataset and find the most common MPG value. (2%)"
   ]
  },
  {
   "cell_type": "code",
   "execution_count": 3,
   "metadata": {},
   "outputs": [
    {
     "data": {
      "text/plain": [
       "'bad'"
      ]
     },
     "execution_count": 3,
     "metadata": {},
     "output_type": "execute_result"
    }
   ],
   "source": [
    "# your code here\n",
    "most_common_MPG = df['MPG'].mode()[0]\n",
    "most_common_MPG"
   ]
  },
  {
   "cell_type": "code",
   "execution_count": 4,
   "metadata": {},
   "outputs": [],
   "source": [
    "def InformationGain(goodY,badY,goodN,badN):\n",
    "    def F(X,Y):\n",
    "        val1 = X*np.log2(1.*(X+Y)/X) if X>0 else 0\n",
    "        val2 = Y*np.log2(1.*(X+Y)/Y) if Y>0 else 0\n",
    "        return val1+val2\n",
    "    return (F(goodY+goodN,badY+badN)-F(goodY,badY)-F(goodN,badN)) / (goodY+goodN+badY+badN)"
   ]
  },
  {
   "cell_type": "markdown",
   "metadata": {},
   "source": [
    "b) Enumerate all the possible binary questions you could ask for each discrete-valued variable.  For each such split, compute the numbers of \"good\" and \"bad\" MPG vehicles in each of the two child nodes, and compute the information gain using the provided function above. (5%)"
   ]
  },
  {
   "cell_type": "code",
   "execution_count": 5,
   "metadata": {},
   "outputs": [
    {
     "data": {
      "text/plain": [
       "[('cylinders == 4', 0.4680577739061723),\n",
       " ('cylinders == 6', 0.1916312040067166),\n",
       " ('weight == light', 0.1916312040067166),\n",
       " ('weight == weighty', 0.1916312040067166),\n",
       " ('cylinders == 8', 0.15307795338969116),\n",
       " ('weight == medium', 0.0058021490143458365)]"
      ]
     },
     "execution_count": 5,
     "metadata": {},
     "output_type": "execute_result"
    }
   ],
   "source": [
    "# your code here\n",
    "variables = ['cylinders', 'weight']\n",
    "ig = {}\n",
    "\n",
    "\n",
    "for variable in variables:\n",
    "    values = df[variable].unique()\n",
    "    for value in values:\n",
    "        subsetY = df[df[variable] == value]\n",
    "        subsetN = df[df[variable] != value]\n",
    "        \n",
    "        goodY = subsetY[subsetY['MPG'] == 'good'].shape[0]\n",
    "        badY = subsetY[subsetY['MPG'] == 'bad'].shape[0]\n",
    "        goodN = subsetN[subsetN['MPG'] == 'good'].shape[0]\n",
    "        badN = subsetN[subsetN['MPG'] == 'bad'].shape[0]\n",
    "        \n",
    "        ig[f\"{variable} == {value}\"] = InformationGain(goodY, badY, goodN, badN)\n",
    "\n",
    "ig = sorted(ig.items(), key=lambda x: x[1], reverse=True)\n",
    "ig"
   ]
  },
  {
   "cell_type": "markdown",
   "metadata": {},
   "source": [
    "c) Enumerate all the possible binary questions you could ask for the real-valued variable HP.  For each such split, compute the numbers of \"good\" and \"bad\" MPG vehicles in each of the two child nodes, and compute the information gain using the provided function above. (5%) \n",
    "\n",
    "NOTE: if you'd like, you can just use all midpoints between consecutive values of the sorted HP attribute.  You are not required to exclude provably suboptimal questions like we did in the lecture."
   ]
  },
  {
   "cell_type": "code",
   "execution_count": 6,
   "metadata": {},
   "outputs": [
    {
     "data": {
      "text/plain": [
       "[('HP <= 93.5', 0.5567796494470395),\n",
       " ('HP <= 94.5', 0.4680577739061723),\n",
       " ('HP <= 92.5', 0.3248903838733558),\n",
       " ('HP <= 83.0', 0.30984030471640045),\n",
       " ('HP <= 97.5', 0.28129089923069267),\n",
       " ('HP <= 89.5', 0.2759267455941731),\n",
       " ('HP <= 78.0', 0.19350684337293433),\n",
       " ('HP <= 91.0', 0.1916312040067166),\n",
       " ('HP <= 105.0', 0.1916312040067166),\n",
       " ('HP <= 87.0', 0.16206546623874934),\n",
       " ('HP <= 124.5', 0.15307795338969116),\n",
       " ('HP <= 142.0', 0.1177436968907207),\n",
       " ('HP <= 70.0', 0.09139023062144994),\n",
       " ('HP <= 157.5', 0.08512362463476446),\n",
       " ('HP <= 172.5', 0.054824648581652015),\n",
       " ('HP <= 182.5', 0.026534328467343292)]"
      ]
     },
     "execution_count": 6,
     "metadata": {},
     "output_type": "execute_result"
    }
   ],
   "source": [
    "# your code here\n",
    "hp_values_sorted = sorted(df['HP'].unique())\n",
    "hp_midpoints = [(hp_values_sorted[i] + hp_values_sorted[i+1]) / 2 for i in range(len(hp_values_sorted) - 1)]\n",
    "\n",
    "hp_ig = {}\n",
    "\n",
    "for midpoint in hp_midpoints:\n",
    "    subsetY = df[df['HP'] <= midpoint]\n",
    "    subsetN = df[df['HP'] > midpoint]\n",
    "    \n",
    "    goodY = subsetY[subsetY['MPG'] == 'good'].shape[0]\n",
    "    badY = subsetY[subsetY['MPG'] == 'bad'].shape[0]\n",
    "    goodN = subsetN[subsetN['MPG'] == 'good'].shape[0]\n",
    "    badN = subsetN[subsetN['MPG'] == 'bad'].shape[0]\n",
    "    \n",
    "    hp_ig[f\"HP <= {midpoint}\"] = InformationGain(goodY, badY, goodN, badN)\n",
    "\n",
    "hp_ig = sorted(hp_ig.items(), key=lambda x: x[1], reverse=True)\n",
    "hp_ig"
   ]
  },
  {
   "cell_type": "markdown",
   "metadata": {},
   "source": [
    "d) Based on your results for parts b and c, what is the optimal binary split of the data?  Of the two child nodes created by this split, which (if any) would require further partitioning? (4%)"
   ]
  },
  {
   "cell_type": "markdown",
   "metadata": {},
   "source": [
    "Your answer here.\n",
    "\n",
    "  - The optimal binary split of the data is HP <= 93.5(part c) because of the highest information gain, the weight of data may require further partitioning. In addition, we would examine the purity of each node. If either node contains a mix of \"good\" and \"bad\" MPG values, it would require further partitioning.\n"
   ]
  },
  {
   "cell_type": "markdown",
   "metadata": {},
   "source": [
    "e) Repeat parts a through d until all training data points are perfectly classified by the resulting tree. (6%)"
   ]
  },
  {
   "cell_type": "code",
   "execution_count": 7,
   "metadata": {},
   "outputs": [
    {
     "data": {
      "text/plain": [
       "{'feature': 'HP',\n",
       " 'value': 93.5,\n",
       " 'left': {'feature': 'cylinders',\n",
       "  'value': 4,\n",
       "  'left': {'label': 'good', 'depth': 2},\n",
       "  'right': {'label': 'bad', 'depth': 2},\n",
       "  'depth': 1},\n",
       " 'right': {'label': 'bad', 'depth': 1},\n",
       " 'depth': 0}"
      ]
     },
     "execution_count": 7,
     "metadata": {},
     "output_type": "execute_result"
    }
   ],
   "source": [
    "# your code here\n",
    "def decision_tree(df, depth=0, max_depth=2):\n",
    "    if depth == max_depth or df['MPG'].nunique() == 1:\n",
    "        return {'label': df['MPG'].mode()[0], 'depth': depth}\n",
    "    \n",
    "    split = {\"feature\": None, \"value\": None, \"info_gain\": -1}\n",
    "    features = ['cylinders', 'HP', 'weight']\n",
    "    for feature in features:\n",
    "        unique_values = sorted(df[feature].unique()) if feature != 'HP' else hp_midpoints\n",
    "        for value in unique_values:\n",
    "            if feature == 'HP':\n",
    "                subsetY = df[df['HP'] <= value]\n",
    "                subsetN = df[df['HP'] > value]\n",
    "            elif feature in ['cylinders', 'weight']:\n",
    "                subsetY = df[df[feature] == value]\n",
    "                subsetN = df[df[feature] != value]\n",
    "            \n",
    "            goodY = subsetY[subsetY['MPG'] == 'good'].shape[0]\n",
    "            badY = subsetY[subsetY['MPG'] == 'bad'].shape[0]\n",
    "            goodN = subsetN[subsetN['MPG'] == 'good'].shape[0]\n",
    "            badN = subsetN[subsetN['MPG'] == 'bad'].shape[0]\n",
    "            \n",
    "            info_gain = InformationGain(goodY, badY, goodN, badN)\n",
    "            if info_gain > split['info_gain']:\n",
    "                split = {\"feature\": feature, \"value\": value, \"info_gain\": info_gain}\n",
    "    \n",
    "    if split['feature'] == 'HP':\n",
    "        left = df[df['HP'] <= split['value']]\n",
    "        right = df[df['HP'] > split['value']]\n",
    "    elif split['feature'] in ['cylinders', 'weight']:\n",
    "        left = df[df[split['feature']] == split['value']]\n",
    "        right = df[df[split['feature']] != split['value']]\n",
    "    \n",
    "    left_child = decision_tree(left, depth + 1, max_depth)\n",
    "    right_child = decision_tree(right, depth + 1, max_depth)\n",
    "    \n",
    "    return {\n",
    "        'feature': split['feature'],\n",
    "        'value': split['value'],\n",
    "        'left': left_child,\n",
    "        'right': right_child,\n",
    "        'depth': depth\n",
    "    }\n",
    "\n",
    "Decision_Tree = decision_tree(df, max_depth=3)\n",
    "Decision_Tree\n"
   ]
  },
  {
   "cell_type": "markdown",
   "metadata": {},
   "source": [
    "f) Draw or show the final decision tree in a format of your choice.  The decision to make at each step and the predicted value at each leaf node must be clear. (4%)"
   ]
  },
  {
   "cell_type": "markdown",
   "metadata": {},
   "source": [
    "Your answer here"
   ]
  },
  {
   "cell_type": "code",
   "execution_count": 8,
   "metadata": {},
   "outputs": [
    {
     "data": {
      "image/svg+xml": [
       "<?xml version=\"1.0\" encoding=\"UTF-8\" standalone=\"no\"?>\n",
       "<!DOCTYPE svg PUBLIC \"-//W3C//DTD SVG 1.1//EN\"\n",
       " \"http://www.w3.org/Graphics/SVG/1.1/DTD/svg11.dtd\">\n",
       "<!-- Generated by graphviz version 2.50.0 (20211204.2007)\n",
       " -->\n",
       "<!-- Pages: 1 -->\n",
       "<svg width=\"390pt\" height=\"188pt\"\n",
       " viewBox=\"0.00 0.00 389.69 188.00\" xmlns=\"http://www.w3.org/2000/svg\" xmlns:xlink=\"http://www.w3.org/1999/xlink\">\n",
       "<g id=\"graph0\" class=\"graph\" transform=\"scale(1 1) rotate(0) translate(4 184)\">\n",
       "<polygon fill=\"white\" stroke=\"transparent\" points=\"-4,4 -4,-184 385.69,-184 385.69,4 -4,4\"/>\n",
       "<!-- 0 -->\n",
       "<g id=\"node1\" class=\"node\">\n",
       "<title>0</title>\n",
       "<ellipse fill=\"none\" stroke=\"black\" cx=\"229.94\" cy=\"-162\" rx=\"90.98\" ry=\"18\"/>\n",
       "<text text-anchor=\"middle\" x=\"229.94\" y=\"-158.3\" font-family=\"Times New Roman,serif\" font-size=\"14.00\">HP &lt;= 93.5 (Depth 0)</text>\n",
       "</g>\n",
       "<!-- 00 -->\n",
       "<g id=\"node2\" class=\"node\">\n",
       "<title>00</title>\n",
       "<ellipse fill=\"none\" stroke=\"black\" cx=\"139.94\" cy=\"-90\" rx=\"100.98\" ry=\"18\"/>\n",
       "<text text-anchor=\"middle\" x=\"139.94\" y=\"-86.3\" font-family=\"Times New Roman,serif\" font-size=\"14.00\">cylinders == 4 (Depth 1)</text>\n",
       "</g>\n",
       "<!-- 0&#45;&gt;00 -->\n",
       "<g id=\"edge1\" class=\"edge\">\n",
       "<title>0&#45;&gt;00</title>\n",
       "<path fill=\"none\" stroke=\"black\" d=\"M208.62,-144.41C196.93,-135.32 182.27,-123.92 169.5,-113.99\"/>\n",
       "<polygon fill=\"black\" stroke=\"black\" points=\"171.47,-111.09 161.43,-107.71 167.18,-116.61 171.47,-111.09\"/>\n",
       "</g>\n",
       "<!-- 01 -->\n",
       "<g id=\"node5\" class=\"node\">\n",
       "<title>01</title>\n",
       "<ellipse fill=\"none\" stroke=\"black\" cx=\"319.94\" cy=\"-90\" rx=\"61.99\" ry=\"18\"/>\n",
       "<text text-anchor=\"middle\" x=\"319.94\" y=\"-86.3\" font-family=\"Times New Roman,serif\" font-size=\"14.00\">bad (Depth 1)</text>\n",
       "</g>\n",
       "<!-- 0&#45;&gt;01 -->\n",
       "<g id=\"edge4\" class=\"edge\">\n",
       "<title>0&#45;&gt;01</title>\n",
       "<path fill=\"none\" stroke=\"black\" d=\"M251.27,-144.41C263.21,-135.12 278.26,-123.42 291.22,-113.34\"/>\n",
       "<polygon fill=\"black\" stroke=\"black\" points=\"293.64,-115.89 299.39,-106.99 289.35,-110.36 293.64,-115.89\"/>\n",
       "</g>\n",
       "<!-- 000 -->\n",
       "<g id=\"node3\" class=\"node\">\n",
       "<title>000</title>\n",
       "<ellipse fill=\"none\" stroke=\"black\" cx=\"66.94\" cy=\"-18\" rx=\"66.89\" ry=\"18\"/>\n",
       "<text text-anchor=\"middle\" x=\"66.94\" y=\"-14.3\" font-family=\"Times New Roman,serif\" font-size=\"14.00\">good (Depth 2)</text>\n",
       "</g>\n",
       "<!-- 00&#45;&gt;000 -->\n",
       "<g id=\"edge2\" class=\"edge\">\n",
       "<title>00&#45;&gt;000</title>\n",
       "<path fill=\"none\" stroke=\"black\" d=\"M122.27,-72.05C113.13,-63.28 101.81,-52.43 91.8,-42.83\"/>\n",
       "<polygon fill=\"black\" stroke=\"black\" points=\"94.09,-40.18 84.45,-35.79 89.25,-45.24 94.09,-40.18\"/>\n",
       "</g>\n",
       "<!-- 001 -->\n",
       "<g id=\"node4\" class=\"node\">\n",
       "<title>001</title>\n",
       "<ellipse fill=\"none\" stroke=\"black\" cx=\"213.94\" cy=\"-18\" rx=\"61.99\" ry=\"18\"/>\n",
       "<text text-anchor=\"middle\" x=\"213.94\" y=\"-14.3\" font-family=\"Times New Roman,serif\" font-size=\"14.00\">bad (Depth 2)</text>\n",
       "</g>\n",
       "<!-- 00&#45;&gt;001 -->\n",
       "<g id=\"edge3\" class=\"edge\">\n",
       "<title>00&#45;&gt;001</title>\n",
       "<path fill=\"none\" stroke=\"black\" d=\"M157.86,-72.05C167.27,-63.16 178.94,-52.11 189.2,-42.41\"/>\n",
       "<polygon fill=\"black\" stroke=\"black\" points=\"191.85,-44.72 196.71,-35.31 187.04,-39.64 191.85,-44.72\"/>\n",
       "</g>\n",
       "</g>\n",
       "</svg>\n"
      ],
      "text/plain": [
       "<graphviz.graphs.Digraph at 0x21c0c857130>"
      ]
     },
     "metadata": {},
     "output_type": "display_data"
    }
   ],
   "source": [
    "from graphviz import Digraph\n",
    "import IPython.display as ipd\n",
    "\n",
    "def plot_tree(tree):\n",
    "    dot = Digraph()\n",
    "    \n",
    "    def nodes_edges(tree, parent=None, name='0'):\n",
    "\n",
    "        if 'label' in tree:\n",
    "            Label = f\"{tree['label']} (Depth {tree['depth']})\"\n",
    "        else:\n",
    "            if tree['feature'] == 'HP':\n",
    "                Label = f\"{tree['feature']} <= {tree['value']} (Depth {tree['depth']})\"\n",
    "            else:\n",
    "                Label = f\"{tree['feature']} == {tree['value']} (Depth {tree['depth']})\"\n",
    "        \n",
    "        dot.node(name, Label)\n",
    "        \n",
    "        if parent is not None:\n",
    "            dot.edge(parent, name)\n",
    "        \n",
    "        if 'left' in tree:\n",
    "            nodes_edges(tree['left'], name, f\"{name}0\")\n",
    "        if 'right' in tree:\n",
    "            nodes_edges(tree['right'], name, f\"{name}1\")\n",
    "    \n",
    "    nodes_edges(tree)\n",
    "    return dot\n",
    "\n",
    "decision_tree_dot = plot_tree(Decision_Tree)\n",
    "\n",
    "ipd.display(decision_tree_dot)"
   ]
  },
  {
   "cell_type": "markdown",
   "metadata": {},
   "source": [
    "g) Classify each of the following four vehicles as having \"good\" or \"bad\" fuel efficiency (miles per gallon).  Do this by hand using the tree structure learned in part f. (4%)\n",
    "\n",
    "MPG,cylinders,HP,weight\n",
    "\n",
    "???,4,93,light : Good\n",
    "\n",
    "???,6,113,medium : Bad\n",
    "\n",
    "???,4,83,weighty : Good\n",
    "\n",
    "???,6,70,weighty : Bad\n"
   ]
  },
  {
   "cell_type": "markdown",
   "metadata": {},
   "source": [
    "### Question 3, Predicting burden of disease （40%)"
   ]
  },
  {
   "cell_type": "code",
   "execution_count": 9,
   "metadata": {},
   "outputs": [
    {
     "data": {
      "text/html": [
       "<div>\n",
       "<style scoped>\n",
       "    .dataframe tbody tr th:only-of-type {\n",
       "        vertical-align: middle;\n",
       "    }\n",
       "\n",
       "    .dataframe tbody tr th {\n",
       "        vertical-align: top;\n",
       "    }\n",
       "\n",
       "    .dataframe thead th {\n",
       "        text-align: right;\n",
       "    }\n",
       "</style>\n",
       "<table border=\"1\" class=\"dataframe\">\n",
       "  <thead>\n",
       "    <tr style=\"text-align: right;\">\n",
       "      <th></th>\n",
       "      <th>Country</th>\n",
       "      <th>FrxnPeaceIn10</th>\n",
       "      <th>ODA4H2OPcptaDol</th>\n",
       "      <th>RenewResm3PcptaYr</th>\n",
       "      <th>SustAccImprWatRur</th>\n",
       "      <th>SustAccImprWatUrb</th>\n",
       "      <th>SustAccImprSanRur</th>\n",
       "      <th>SustAccImprSanUrb</th>\n",
       "      <th>TotHlthExpPctofGDP</th>\n",
       "      <th>GenGovtPctofTotHlthExp</th>\n",
       "      <th>ExtResHlthPctTotExpHlth</th>\n",
       "      <th>PCptaGovtExpHlthAvgExcRt</th>\n",
       "      <th>GDPPCptaIntDol</th>\n",
       "      <th>AdultLtrcyRate</th>\n",
       "      <th>FemaleLtrcyRate</th>\n",
       "      <th>BurdenOfDisease</th>\n",
       "    </tr>\n",
       "  </thead>\n",
       "  <tbody>\n",
       "    <tr>\n",
       "      <th>0</th>\n",
       "      <td>Afghanistan</td>\n",
       "      <td>0.1</td>\n",
       "      <td>0.16</td>\n",
       "      <td>2986</td>\n",
       "      <td>0.10891</td>\n",
       "      <td>0.18812</td>\n",
       "      <td>0.049505</td>\n",
       "      <td>0.15842</td>\n",
       "      <td>0.065</td>\n",
       "      <td>0.395</td>\n",
       "      <td>0.4560</td>\n",
       "      <td>4</td>\n",
       "      <td>430</td>\n",
       "      <td>0.35644</td>\n",
       "      <td>0.20792</td>\n",
       "      <td>awful</td>\n",
       "    </tr>\n",
       "    <tr>\n",
       "      <th>1</th>\n",
       "      <td>Albania</td>\n",
       "      <td>1.0</td>\n",
       "      <td>5.58</td>\n",
       "      <td>13306</td>\n",
       "      <td>0.94059</td>\n",
       "      <td>0.98020</td>\n",
       "      <td>0.801980</td>\n",
       "      <td>0.98020</td>\n",
       "      <td>0.065</td>\n",
       "      <td>0.417</td>\n",
       "      <td>0.0340</td>\n",
       "      <td>49</td>\n",
       "      <td>6158</td>\n",
       "      <td>0.85644</td>\n",
       "      <td>0.78713</td>\n",
       "      <td>low</td>\n",
       "    </tr>\n",
       "    <tr>\n",
       "      <th>2</th>\n",
       "      <td>Algeria</td>\n",
       "      <td>0.0</td>\n",
       "      <td>0.33</td>\n",
       "      <td>473</td>\n",
       "      <td>0.79208</td>\n",
       "      <td>0.91089</td>\n",
       "      <td>0.811880</td>\n",
       "      <td>0.98020</td>\n",
       "      <td>0.041</td>\n",
       "      <td>0.808</td>\n",
       "      <td>0.0005</td>\n",
       "      <td>71</td>\n",
       "      <td>4860</td>\n",
       "      <td>0.69307</td>\n",
       "      <td>0.60396</td>\n",
       "      <td>high</td>\n",
       "    </tr>\n",
       "  </tbody>\n",
       "</table>\n",
       "</div>"
      ],
      "text/plain": [
       "       Country  FrxnPeaceIn10  ODA4H2OPcptaDol  RenewResm3PcptaYr  \\\n",
       "0  Afghanistan            0.1             0.16               2986   \n",
       "1      Albania            1.0             5.58              13306   \n",
       "2      Algeria            0.0             0.33                473   \n",
       "\n",
       "   SustAccImprWatRur  SustAccImprWatUrb  SustAccImprSanRur  SustAccImprSanUrb  \\\n",
       "0            0.10891            0.18812           0.049505            0.15842   \n",
       "1            0.94059            0.98020           0.801980            0.98020   \n",
       "2            0.79208            0.91089           0.811880            0.98020   \n",
       "\n",
       "   TotHlthExpPctofGDP  GenGovtPctofTotHlthExp  ExtResHlthPctTotExpHlth  \\\n",
       "0               0.065                   0.395                   0.4560   \n",
       "1               0.065                   0.417                   0.0340   \n",
       "2               0.041                   0.808                   0.0005   \n",
       "\n",
       "   PCptaGovtExpHlthAvgExcRt  GDPPCptaIntDol  AdultLtrcyRate  FemaleLtrcyRate  \\\n",
       "0                         4             430         0.35644          0.20792   \n",
       "1                        49            6158         0.85644          0.78713   \n",
       "2                        71            4860         0.69307          0.60396   \n",
       "\n",
       "  BurdenOfDisease  \n",
       "0           awful  \n",
       "1             low  \n",
       "2            high  "
      ]
     },
     "execution_count": 9,
     "metadata": {},
     "output_type": "execute_result"
    }
   ],
   "source": [
    "data=pd.read_csv(\"Burden of diarrheal illness by country.csv\")\n",
    "data.head(3)"
   ]
  },
  {
   "cell_type": "markdown",
   "metadata": {},
   "source": [
    "### Data dictionary\n",
    "\n",
    "NAME: Burden of diarrheal illness by country\n",
    "\n",
    "SIZE: 130 Countries, 16 Variables\n",
    "\n",
    "VARIABLE DESCRIPTIONS:\n",
    "\n",
    "Country: Country name\n",
    "\n",
    "FrxnPeaceIn10: Fraction of the past ten years in which a country has been at peace \n",
    "\n",
    "ODA4H2OPcptaDol: Per Capita Official Developmental Assistance for water projects\n",
    "\n",
    "RenewResm3PcptaYr: Renewable Water Resources in cubic meters per capita per year\n",
    "\n",
    "SustAccImprWatRur: Fraction of rural population with sustainable access to improved water\n",
    "\n",
    "SustAccImprWatUrb: Fraction of urban population with sustainable access to improved water\n",
    "\n",
    "SustAccImprSanRur: Fraction of rural population with sustainable access to improved sanitation\n",
    "\n",
    "SustAccImprSanUrb: Fraction of urban population with sustainable access to improved sanitation\n",
    "\n",
    "TotHlthExpPctofGDP: Fraction of a country's GDP devoted to health spending\n",
    "\n",
    "GenGovtPctofTotHlthExp: The fraction of total health expenditures for a country which is provided by the government\n",
    "\n",
    "ExtResHlthPctTotExpHlth: The fraction of total health expenditures for a country which is comes from sources external to the country\n",
    "\n",
    "PCptaGovtExpHlthAvgExcRt: Per Capita Government Health Expenditures at the average exchange rate\n",
    "\n",
    "GDPPCptaIntDol: Gross Domestic Product per capita in international dollars\n",
    "\n",
    "AdultLtrcyRate: Adult Literacy rate\n",
    "\n",
    "FemaleLtrcyRate: Female Literacy rate\n",
    "\n",
    "BurdenOfDisease: Our target variable for classification.  The burden of disease due to diarrheal illness, categorized into \"low\", \"medium\", \"high\", and \"awful\" quartiles.  For each country, we have estimates of the number of Disability-Adjusted Life Years lost per 1000 persons per year (DALYs) due to diarrheal illness.  Countries with \"low\" burden of disease have up to 2.75345 DALYs; countries with \"medium\" burden of disease have between 2.75345 and 8.2127 DALYs; countries with \"high\" burden of disease have between 8.2127 and 26.699 DALYs; and countries with \"awful\" burden of diease have more than 26.699 DALYs."
   ]
  },
  {
   "cell_type": "markdown",
   "metadata": {},
   "source": [
    "### Your goal is to train a decision tree classifier for the attribute “BurdenOfDisease\" using all other variables (except country name) as features with sklearn.tree.DecisionTreeClassifier. \n",
    "http://scikit-learn.org/stable/modules/generated/sklearn.tree.DecisionTreeClassifier.html"
   ]
  },
  {
   "cell_type": "markdown",
   "metadata": {},
   "source": [
    "a) Please choose a train/test split and choose a hyper-parameter governing model simplicity, for example, the maximum tree depth or maximum number of leaf nodes. Then, fit your decision tree classifier (using the training set) for different values of this parameter and for each such value, record the corresponding classification accuracy on the test set. (10%)"
   ]
  },
  {
   "cell_type": "code",
   "execution_count": 10,
   "metadata": {
    "scrolled": true
   },
   "outputs": [
    {
     "name": "stdout",
     "output_type": "stream",
     "text": [
      "Max Depth: 1, Accuracy: 0.2564102564102564\n",
      "Max Depth: 2, Accuracy: 0.3333333333333333\n",
      "Max Depth: 3, Accuracy: 0.5641025641025641\n",
      "Max Depth: 4, Accuracy: 0.5641025641025641\n",
      "Max Depth: 5, Accuracy: 0.48717948717948717\n",
      "Max Depth: 6, Accuracy: 0.5897435897435898\n",
      "Max Depth: 7, Accuracy: 0.5897435897435898\n",
      "Max Depth: 8, Accuracy: 0.5897435897435898\n",
      "Max Depth: 9, Accuracy: 0.5897435897435898\n"
     ]
    }
   ],
   "source": [
    "# your code here\n",
    "import pandas as pd\n",
    "from sklearn.model_selection import train_test_split\n",
    "from sklearn.tree import DecisionTreeClassifier\n",
    "from sklearn.metrics import accuracy_score\n",
    "\n",
    "# Assuming 'data' is loaded as described\n",
    "# data = pd.read_csv(\"Burden of diarrheal illness by country.csv\")\n",
    "\n",
    "# Preparing the data\n",
    "X = data.drop(['Country', 'BurdenOfDisease'], axis=1)\n",
    "y = data['BurdenOfDisease']\n",
    "\n",
    "# Splitting the dataset into training and testing sets\n",
    "X_train, X_test, y_train, y_test = train_test_split(X, y, test_size=0.3, random_state=42)\n",
    "\n",
    "# Trying different values of max_depth as the hyper-parameter\n",
    "max_depths = range(1, 10)\n",
    "accuracies = []\n",
    "\n",
    "for depth in max_depths:\n",
    "    clf = DecisionTreeClassifier(max_depth=depth, random_state=42)\n",
    "    clf.fit(X_train, y_train)\n",
    "    predictions = clf.predict(X_test)\n",
    "    accuracies.append(accuracy_score(y_test, predictions))\n",
    "\n",
    "# Displaying accuracies for different depths\n",
    "for depth, accuracy in zip(max_depths, accuracies):\n",
    "    print(f\"Max Depth: {depth}, Accuracy: {accuracy}\")\n"
   ]
  },
  {
   "cell_type": "markdown",
   "metadata": {},
   "source": [
    "b) Make a plot of accuracy vs. simplicity for different values of the hyper-parameter chosen in part a). That is, the x-axis should be hyper-parameter value (e.g. tree depth) and the y-axis should be accuracy. (10%)"
   ]
  },
  {
   "cell_type": "code",
   "execution_count": 11,
   "metadata": {},
   "outputs": [
    {
     "data": {
      "image/png": "[encoded data removed]",
      "text/plain": [
       "<Figure size 1000x600 with 1 Axes>"
      ]
     },
     "metadata": {},
     "output_type": "display_data"
    }
   ],
   "source": [
    "# your code here\n",
    "import matplotlib.pyplot as plt\n",
    "\n",
    "plt.figure(figsize=(10, 6))\n",
    "plt.plot(max_depths, accuracies, marker='o')\n",
    "plt.title('Accuracy vs. Simplicity')\n",
    "plt.xlabel('Simplicity(Tree Depth)')\n",
    "plt.ylabel('Accuracy')\n",
    "plt.show()\n"
   ]
  },
  {
   "cell_type": "markdown",
   "metadata": {},
   "source": [
    "c) Tune the hyper-parameter you choose in part a) by cross-validation using the training data. You can choose to use the GridSearchCV package from sklearn or write your own code to do cross-validation by spliting the training data into training and validation data. What is the out of sample accuracy after tuning the hyper-parameter? (10%)"
   ]
  },
  {
   "cell_type": "code",
   "execution_count": 12,
   "metadata": {},
   "outputs": [
    {
     "name": "stdout",
     "output_type": "stream",
     "text": [
      "Best Depth: 8, Out of Sample Accuracy: 0.5897435897435898\n"
     ]
    }
   ],
   "source": [
    "# your code here\n",
    "from sklearn.model_selection import GridSearchCV\n",
    "\n",
    "param = {'max_depth': range(1, 10)}\n",
    "\n",
    "gridsearch = GridSearchCV(DecisionTreeClassifier(random_state=42), param, cv=5, scoring='accuracy')\n",
    "gridsearch.fit(X_train, y_train)\n",
    "\n",
    "depth = gridsearch.best_params_['max_depth']\n",
    "estimator = gridsearch.best_estimator_\n",
    "predictions = estimator.predict(X_test)\n",
    "accuracy = accuracy_score(y_test, predictions)\n",
    "\n",
    "print(f\"Best Depth: {depth}, Out of Sample Accuracy: {accuracy}\")\n"
   ]
  },
  {
   "cell_type": "markdown",
   "metadata": {},
   "source": [
    "d) Visualize a simple decision tree (e.g., with max_depth = 2 or 3) learned from the data.  To do so, given your decision tree dt, you can use the code below, then copy and paste the resulting output into http://www.webgraphviz.com.  Alternatively, if you have graphviz installed on your machine, you can use that. (10%)"
   ]
  },
  {
   "cell_type": "code",
   "execution_count": 13,
   "metadata": {
    "scrolled": false
   },
   "outputs": [
    {
     "data": {
      "image/svg+xml": [
       "<?xml version=\"1.0\" encoding=\"UTF-8\" standalone=\"no\"?>\n",
       "<!DOCTYPE svg PUBLIC \"-//W3C//DTD SVG 1.1//EN\"\n",
       " \"http://www.w3.org/Graphics/SVG/1.1/DTD/svg11.dtd\">\n",
       "<!-- Generated by graphviz version 2.50.0 (20211204.2007)\n",
       " -->\n",
       "<!-- Title: Tree Pages: 1 -->\n",
       "<svg width=\"920pt\" height=\"433pt\"\n",
       " viewBox=\"0.00 0.00 919.50 433.00\" xmlns=\"http://www.w3.org/2000/svg\" xmlns:xlink=\"http://www.w3.org/1999/xlink\">\n",
       "<g id=\"graph0\" class=\"graph\" transform=\"scale(1 1) rotate(0) translate(4 429)\">\n",
       "<title>Tree</title>\n",
       "<polygon fill=\"white\" stroke=\"transparent\" points=\"-4,4 -4,-429 915.5,-429 915.5,4 -4,4\"/>\n",
       "<!-- 0 -->\n",
       "<g id=\"node1\" class=\"node\">\n",
       "<title>0</title>\n",
       "<path fill=\"none\" stroke=\"black\" d=\"M654,-425C654,-425 480,-425 480,-425 474,-425 468,-419 468,-413 468,-413 468,-354 468,-354 468,-348 474,-342 480,-342 480,-342 654,-342 654,-342 660,-342 666,-348 666,-354 666,-354 666,-413 666,-413 666,-419 660,-425 654,-425\"/>\n",
       "<text text-anchor=\"start\" x=\"476\" y=\"-409.8\" font-family=\"Helvetica,sans-Serif\" font-size=\"14.00\">SustAccImprSanRur ≤ 0.649</text>\n",
       "<text text-anchor=\"start\" x=\"529.5\" y=\"-394.8\" font-family=\"Helvetica,sans-Serif\" font-size=\"14.00\">gini = 0.746</text>\n",
       "<text text-anchor=\"start\" x=\"523.5\" y=\"-379.8\" font-family=\"Helvetica,sans-Serif\" font-size=\"14.00\">samples = 91</text>\n",
       "<text text-anchor=\"start\" x=\"494.5\" y=\"-364.8\" font-family=\"Helvetica,sans-Serif\" font-size=\"14.00\">value = [18, 26, 24, 23]</text>\n",
       "<text text-anchor=\"start\" x=\"529\" y=\"-349.8\" font-family=\"Helvetica,sans-Serif\" font-size=\"14.00\">class = high</text>\n",
       "</g>\n",
       "<!-- 1 -->\n",
       "<g id=\"node2\" class=\"node\">\n",
       "<title>1</title>\n",
       "<path fill=\"none\" stroke=\"black\" d=\"M540.5,-306C540.5,-306 343.5,-306 343.5,-306 337.5,-306 331.5,-300 331.5,-294 331.5,-294 331.5,-235 331.5,-235 331.5,-229 337.5,-223 343.5,-223 343.5,-223 540.5,-223 540.5,-223 546.5,-223 552.5,-229 552.5,-235 552.5,-235 552.5,-294 552.5,-294 552.5,-300 546.5,-306 540.5,-306\"/>\n",
       "<text text-anchor=\"start\" x=\"339.5\" y=\"-290.8\" font-family=\"Helvetica,sans-Serif\" font-size=\"14.00\">ExtResHlthPctTotExpHlth ≤ 0.02</text>\n",
       "<text text-anchor=\"start\" x=\"404.5\" y=\"-275.8\" font-family=\"Helvetica,sans-Serif\" font-size=\"14.00\">gini = 0.677</text>\n",
       "<text text-anchor=\"start\" x=\"398.5\" y=\"-260.8\" font-family=\"Helvetica,sans-Serif\" font-size=\"14.00\">samples = 62</text>\n",
       "<text text-anchor=\"start\" x=\"373.5\" y=\"-245.8\" font-family=\"Helvetica,sans-Serif\" font-size=\"14.00\">value = [18, 25, 2, 17]</text>\n",
       "<text text-anchor=\"start\" x=\"404\" y=\"-230.8\" font-family=\"Helvetica,sans-Serif\" font-size=\"14.00\">class = high</text>\n",
       "</g>\n",
       "<!-- 0&#45;&gt;1 -->\n",
       "<g id=\"edge1\" class=\"edge\">\n",
       "<title>0&#45;&gt;1</title>\n",
       "<path fill=\"none\" stroke=\"black\" d=\"M523.63,-341.91C513.65,-332.56 502.94,-322.54 492.67,-312.93\"/>\n",
       "<polygon fill=\"black\" stroke=\"black\" points=\"494.98,-310.3 485.29,-306.02 490.2,-315.41 494.98,-310.3\"/>\n",
       "<text text-anchor=\"middle\" x=\"486.12\" y=\"-327.31\" font-family=\"Helvetica,sans-Serif\" font-size=\"14.00\">True</text>\n",
       "</g>\n",
       "<!-- 8 -->\n",
       "<g id=\"node9\" class=\"node\">\n",
       "<title>8</title>\n",
       "<path fill=\"none\" stroke=\"black\" d=\"M752.5,-306C752.5,-306 599.5,-306 599.5,-306 593.5,-306 587.5,-300 587.5,-294 587.5,-294 587.5,-235 587.5,-235 587.5,-229 593.5,-223 599.5,-223 599.5,-223 752.5,-223 752.5,-223 758.5,-223 764.5,-229 764.5,-235 764.5,-235 764.5,-294 764.5,-294 764.5,-300 758.5,-306 752.5,-306\"/>\n",
       "<text text-anchor=\"start\" x=\"595.5\" y=\"-290.8\" font-family=\"Helvetica,sans-Serif\" font-size=\"14.00\">FemaleLtrcyRate ≤ 0.866</text>\n",
       "<text text-anchor=\"start\" x=\"642.5\" y=\"-275.8\" font-family=\"Helvetica,sans-Serif\" font-size=\"14.00\">gini = 0.38</text>\n",
       "<text text-anchor=\"start\" x=\"632.5\" y=\"-260.8\" font-family=\"Helvetica,sans-Serif\" font-size=\"14.00\">samples = 29</text>\n",
       "<text text-anchor=\"start\" x=\"615.5\" y=\"-245.8\" font-family=\"Helvetica,sans-Serif\" font-size=\"14.00\">value = [0, 1, 22, 6]</text>\n",
       "<text text-anchor=\"start\" x=\"641\" y=\"-230.8\" font-family=\"Helvetica,sans-Serif\" font-size=\"14.00\">class = low</text>\n",
       "</g>\n",
       "<!-- 0&#45;&gt;8 -->\n",
       "<g id=\"edge8\" class=\"edge\">\n",
       "<title>0&#45;&gt;8</title>\n",
       "<path fill=\"none\" stroke=\"black\" d=\"M604.82,-341.91C613.36,-332.74 622.5,-322.93 631.29,-313.49\"/>\n",
       "<polygon fill=\"black\" stroke=\"black\" points=\"633.99,-315.72 638.25,-306.02 628.87,-310.95 633.99,-315.72\"/>\n",
       "<text text-anchor=\"middle\" x=\"639.13\" y=\"-327.31\" font-family=\"Helvetica,sans-Serif\" font-size=\"14.00\">False</text>\n",
       "</g>\n",
       "<!-- 2 -->\n",
       "<g id=\"node3\" class=\"node\">\n",
       "<title>2</title>\n",
       "<path fill=\"none\" stroke=\"black\" d=\"M302,-187C302,-187 128,-187 128,-187 122,-187 116,-181 116,-175 116,-175 116,-116 116,-116 116,-110 122,-104 128,-104 128,-104 302,-104 302,-104 308,-104 314,-110 314,-116 314,-116 314,-175 314,-175 314,-181 308,-187 302,-187\"/>\n",
       "<text text-anchor=\"start\" x=\"124\" y=\"-171.8\" font-family=\"Helvetica,sans-Serif\" font-size=\"14.00\">SustAccImprSanUrb ≤ 0.619</text>\n",
       "<text text-anchor=\"start\" x=\"177.5\" y=\"-156.8\" font-family=\"Helvetica,sans-Serif\" font-size=\"14.00\">gini = 0.219</text>\n",
       "<text text-anchor=\"start\" x=\"171.5\" y=\"-141.8\" font-family=\"Helvetica,sans-Serif\" font-size=\"14.00\">samples = 16</text>\n",
       "<text text-anchor=\"start\" x=\"154.5\" y=\"-126.8\" font-family=\"Helvetica,sans-Serif\" font-size=\"14.00\">value = [0, 2, 0, 14]</text>\n",
       "<text text-anchor=\"start\" x=\"165\" y=\"-111.8\" font-family=\"Helvetica,sans-Serif\" font-size=\"14.00\">class = medium</text>\n",
       "</g>\n",
       "<!-- 1&#45;&gt;2 -->\n",
       "<g id=\"edge2\" class=\"edge\">\n",
       "<title>1&#45;&gt;2</title>\n",
       "<path fill=\"none\" stroke=\"black\" d=\"M363.24,-222.91C343.7,-212.83 322.63,-201.98 302.69,-191.7\"/>\n",
       "<polygon fill=\"black\" stroke=\"black\" points=\"304.11,-188.49 293.62,-187.02 300.9,-194.71 304.11,-188.49\"/>\n",
       "</g>\n",
       "<!-- 5 -->\n",
       "<g id=\"node6\" class=\"node\">\n",
       "<title>5</title>\n",
       "<path fill=\"none\" stroke=\"black\" d=\"M522.5,-187C522.5,-187 361.5,-187 361.5,-187 355.5,-187 349.5,-181 349.5,-175 349.5,-175 349.5,-116 349.5,-116 349.5,-110 355.5,-104 361.5,-104 361.5,-104 522.5,-104 522.5,-104 528.5,-104 534.5,-110 534.5,-116 534.5,-116 534.5,-175 534.5,-175 534.5,-181 528.5,-187 522.5,-187\"/>\n",
       "<text text-anchor=\"start\" x=\"357.5\" y=\"-171.8\" font-family=\"Helvetica,sans-Serif\" font-size=\"14.00\">GDPPCptaIntDol ≤ 1945.5</text>\n",
       "<text text-anchor=\"start\" x=\"404.5\" y=\"-156.8\" font-family=\"Helvetica,sans-Serif\" font-size=\"14.00\">gini = 0.591</text>\n",
       "<text text-anchor=\"start\" x=\"398.5\" y=\"-141.8\" font-family=\"Helvetica,sans-Serif\" font-size=\"14.00\">samples = 46</text>\n",
       "<text text-anchor=\"start\" x=\"377.5\" y=\"-126.8\" font-family=\"Helvetica,sans-Serif\" font-size=\"14.00\">value = [18, 23, 2, 3]</text>\n",
       "<text text-anchor=\"start\" x=\"404\" y=\"-111.8\" font-family=\"Helvetica,sans-Serif\" font-size=\"14.00\">class = high</text>\n",
       "</g>\n",
       "<!-- 1&#45;&gt;5 -->\n",
       "<g id=\"edge5\" class=\"edge\">\n",
       "<title>1&#45;&gt;5</title>\n",
       "<path fill=\"none\" stroke=\"black\" d=\"M442,-222.91C442,-214.65 442,-205.86 442,-197.3\"/>\n",
       "<polygon fill=\"black\" stroke=\"black\" points=\"445.5,-197.02 442,-187.02 438.5,-197.02 445.5,-197.02\"/>\n",
       "</g>\n",
       "<!-- 3 -->\n",
       "<g id=\"node4\" class=\"node\">\n",
       "<title>3</title>\n",
       "<path fill=\"none\" stroke=\"black\" d=\"M116,-68C116,-68 12,-68 12,-68 6,-68 0,-62 0,-56 0,-56 0,-12 0,-12 0,-6 6,0 12,0 12,0 116,0 116,0 122,0 128,-6 128,-12 128,-12 128,-56 128,-56 128,-62 122,-68 116,-68\"/>\n",
       "<text text-anchor=\"start\" x=\"35\" y=\"-52.8\" font-family=\"Helvetica,sans-Serif\" font-size=\"14.00\">gini = 0.0</text>\n",
       "<text text-anchor=\"start\" x=\"24.5\" y=\"-37.8\" font-family=\"Helvetica,sans-Serif\" font-size=\"14.00\">samples = 2</text>\n",
       "<text text-anchor=\"start\" x=\"8\" y=\"-22.8\" font-family=\"Helvetica,sans-Serif\" font-size=\"14.00\">value = [0, 2, 0, 0]</text>\n",
       "<text text-anchor=\"start\" x=\"26\" y=\"-7.8\" font-family=\"Helvetica,sans-Serif\" font-size=\"14.00\">class = high</text>\n",
       "</g>\n",
       "<!-- 2&#45;&gt;3 -->\n",
       "<g id=\"edge3\" class=\"edge\">\n",
       "<title>2&#45;&gt;3</title>\n",
       "<path fill=\"none\" stroke=\"black\" d=\"M158.77,-103.73C145.44,-94.06 131.25,-83.77 118.02,-74.17\"/>\n",
       "<polygon fill=\"black\" stroke=\"black\" points=\"120.07,-71.34 109.92,-68.3 115.96,-77 120.07,-71.34\"/>\n",
       "</g>\n",
       "<!-- 4 -->\n",
       "<g id=\"node5\" class=\"node\">\n",
       "<title>4</title>\n",
       "<path fill=\"none\" stroke=\"black\" d=\"M271.5,-68C271.5,-68 158.5,-68 158.5,-68 152.5,-68 146.5,-62 146.5,-56 146.5,-56 146.5,-12 146.5,-12 146.5,-6 152.5,0 158.5,0 158.5,0 271.5,0 271.5,0 277.5,0 283.5,-6 283.5,-12 283.5,-12 283.5,-56 283.5,-56 283.5,-62 277.5,-68 271.5,-68\"/>\n",
       "<text text-anchor=\"start\" x=\"186\" y=\"-52.8\" font-family=\"Helvetica,sans-Serif\" font-size=\"14.00\">gini = 0.0</text>\n",
       "<text text-anchor=\"start\" x=\"171.5\" y=\"-37.8\" font-family=\"Helvetica,sans-Serif\" font-size=\"14.00\">samples = 14</text>\n",
       "<text text-anchor=\"start\" x=\"154.5\" y=\"-22.8\" font-family=\"Helvetica,sans-Serif\" font-size=\"14.00\">value = [0, 0, 0, 14]</text>\n",
       "<text text-anchor=\"start\" x=\"165\" y=\"-7.8\" font-family=\"Helvetica,sans-Serif\" font-size=\"14.00\">class = medium</text>\n",
       "</g>\n",
       "<!-- 2&#45;&gt;4 -->\n",
       "<g id=\"edge4\" class=\"edge\">\n",
       "<title>2&#45;&gt;4</title>\n",
       "<path fill=\"none\" stroke=\"black\" d=\"M215,-103.73C215,-95.52 215,-86.86 215,-78.56\"/>\n",
       "<polygon fill=\"black\" stroke=\"black\" points=\"218.5,-78.3 215,-68.3 211.5,-78.3 218.5,-78.3\"/>\n",
       "</g>\n",
       "<!-- 6 -->\n",
       "<g id=\"node7\" class=\"node\">\n",
       "<title>6</title>\n",
       "<path fill=\"none\" stroke=\"black\" d=\"M426.5,-68C426.5,-68 313.5,-68 313.5,-68 307.5,-68 301.5,-62 301.5,-56 301.5,-56 301.5,-12 301.5,-12 301.5,-6 307.5,0 313.5,0 313.5,0 426.5,0 426.5,0 432.5,0 438.5,-6 438.5,-12 438.5,-12 438.5,-56 438.5,-56 438.5,-62 432.5,-68 426.5,-68\"/>\n",
       "<text text-anchor=\"start\" x=\"332.5\" y=\"-52.8\" font-family=\"Helvetica,sans-Serif\" font-size=\"14.00\">gini = 0.482</text>\n",
       "<text text-anchor=\"start\" x=\"326.5\" y=\"-37.8\" font-family=\"Helvetica,sans-Serif\" font-size=\"14.00\">samples = 28</text>\n",
       "<text text-anchor=\"start\" x=\"309.5\" y=\"-22.8\" font-family=\"Helvetica,sans-Serif\" font-size=\"14.00\">value = [18, 9, 0, 1]</text>\n",
       "<text text-anchor=\"start\" x=\"329\" y=\"-7.8\" font-family=\"Helvetica,sans-Serif\" font-size=\"14.00\">class = awful</text>\n",
       "</g>\n",
       "<!-- 5&#45;&gt;6 -->\n",
       "<g id=\"edge6\" class=\"edge\">\n",
       "<title>5&#45;&gt;6</title>\n",
       "<path fill=\"none\" stroke=\"black\" d=\"M415.19,-103.73C409.43,-94.97 403.34,-85.7 397.55,-76.91\"/>\n",
       "<polygon fill=\"black\" stroke=\"black\" points=\"400.31,-74.73 391.9,-68.3 394.47,-78.58 400.31,-74.73\"/>\n",
       "</g>\n",
       "<!-- 7 -->\n",
       "<g id=\"node8\" class=\"node\">\n",
       "<title>7</title>\n",
       "<path fill=\"none\" stroke=\"black\" d=\"M581.5,-68C581.5,-68 468.5,-68 468.5,-68 462.5,-68 456.5,-62 456.5,-56 456.5,-56 456.5,-12 456.5,-12 456.5,-6 462.5,0 468.5,0 468.5,0 581.5,0 581.5,0 587.5,0 593.5,-6 593.5,-12 593.5,-12 593.5,-56 593.5,-56 593.5,-62 587.5,-68 581.5,-68\"/>\n",
       "<text text-anchor=\"start\" x=\"491.5\" y=\"-52.8\" font-family=\"Helvetica,sans-Serif\" font-size=\"14.00\">gini = 0.37</text>\n",
       "<text text-anchor=\"start\" x=\"481.5\" y=\"-37.8\" font-family=\"Helvetica,sans-Serif\" font-size=\"14.00\">samples = 18</text>\n",
       "<text text-anchor=\"start\" x=\"464.5\" y=\"-22.8\" font-family=\"Helvetica,sans-Serif\" font-size=\"14.00\">value = [0, 14, 2, 2]</text>\n",
       "<text text-anchor=\"start\" x=\"487\" y=\"-7.8\" font-family=\"Helvetica,sans-Serif\" font-size=\"14.00\">class = high</text>\n",
       "</g>\n",
       "<!-- 5&#45;&gt;7 -->\n",
       "<g id=\"edge7\" class=\"edge\">\n",
       "<title>5&#45;&gt;7</title>\n",
       "<path fill=\"none\" stroke=\"black\" d=\"M472.91,-103.73C479.68,-94.79 486.86,-85.32 493.65,-76.36\"/>\n",
       "<polygon fill=\"black\" stroke=\"black\" points=\"496.51,-78.38 499.76,-68.3 490.93,-74.15 496.51,-78.38\"/>\n",
       "</g>\n",
       "<!-- 9 -->\n",
       "<g id=\"node10\" class=\"node\">\n",
       "<title>9</title>\n",
       "<path fill=\"none\" stroke=\"black\" d=\"M744.5,-187C744.5,-187 607.5,-187 607.5,-187 601.5,-187 595.5,-181 595.5,-175 595.5,-175 595.5,-116 595.5,-116 595.5,-110 601.5,-104 607.5,-104 607.5,-104 744.5,-104 744.5,-104 750.5,-104 756.5,-110 756.5,-116 756.5,-116 756.5,-175 756.5,-175 756.5,-181 750.5,-187 744.5,-187\"/>\n",
       "<text text-anchor=\"start\" x=\"603.5\" y=\"-171.8\" font-family=\"Helvetica,sans-Serif\" font-size=\"14.00\">AdultLtrcyRate ≤ 0.734</text>\n",
       "<text text-anchor=\"start\" x=\"638.5\" y=\"-156.8\" font-family=\"Helvetica,sans-Serif\" font-size=\"14.00\">gini = 0.406</text>\n",
       "<text text-anchor=\"start\" x=\"636.5\" y=\"-141.8\" font-family=\"Helvetica,sans-Serif\" font-size=\"14.00\">samples = 8</text>\n",
       "<text text-anchor=\"start\" x=\"620\" y=\"-126.8\" font-family=\"Helvetica,sans-Serif\" font-size=\"14.00\">value = [0, 1, 1, 6]</text>\n",
       "<text text-anchor=\"start\" x=\"626\" y=\"-111.8\" font-family=\"Helvetica,sans-Serif\" font-size=\"14.00\">class = medium</text>\n",
       "</g>\n",
       "<!-- 8&#45;&gt;9 -->\n",
       "<g id=\"edge9\" class=\"edge\">\n",
       "<title>8&#45;&gt;9</title>\n",
       "<path fill=\"none\" stroke=\"black\" d=\"M676,-222.91C676,-214.65 676,-205.86 676,-197.3\"/>\n",
       "<polygon fill=\"black\" stroke=\"black\" points=\"679.5,-197.02 676,-187.02 672.5,-197.02 679.5,-197.02\"/>\n",
       "</g>\n",
       "<!-- 12 -->\n",
       "<g id=\"node13\" class=\"node\">\n",
       "<title>12</title>\n",
       "<path fill=\"none\" stroke=\"black\" d=\"M899.5,-179.5C899.5,-179.5 786.5,-179.5 786.5,-179.5 780.5,-179.5 774.5,-173.5 774.5,-167.5 774.5,-167.5 774.5,-123.5 774.5,-123.5 774.5,-117.5 780.5,-111.5 786.5,-111.5 786.5,-111.5 899.5,-111.5 899.5,-111.5 905.5,-111.5 911.5,-117.5 911.5,-123.5 911.5,-123.5 911.5,-167.5 911.5,-167.5 911.5,-173.5 905.5,-179.5 899.5,-179.5\"/>\n",
       "<text text-anchor=\"start\" x=\"814\" y=\"-164.3\" font-family=\"Helvetica,sans-Serif\" font-size=\"14.00\">gini = 0.0</text>\n",
       "<text text-anchor=\"start\" x=\"799.5\" y=\"-149.3\" font-family=\"Helvetica,sans-Serif\" font-size=\"14.00\">samples = 21</text>\n",
       "<text text-anchor=\"start\" x=\"782.5\" y=\"-134.3\" font-family=\"Helvetica,sans-Serif\" font-size=\"14.00\">value = [0, 0, 21, 0]</text>\n",
       "<text text-anchor=\"start\" x=\"808\" y=\"-119.3\" font-family=\"Helvetica,sans-Serif\" font-size=\"14.00\">class = low</text>\n",
       "</g>\n",
       "<!-- 8&#45;&gt;12 -->\n",
       "<g id=\"edge12\" class=\"edge\">\n",
       "<title>8&#45;&gt;12</title>\n",
       "<path fill=\"none\" stroke=\"black\" d=\"M733.94,-222.91C751.26,-210.77 770.21,-197.49 787.39,-185.46\"/>\n",
       "<polygon fill=\"black\" stroke=\"black\" points=\"789.48,-188.27 795.66,-179.67 785.46,-182.54 789.48,-188.27\"/>\n",
       "</g>\n",
       "<!-- 10 -->\n",
       "<g id=\"node11\" class=\"node\">\n",
       "<title>10</title>\n",
       "<path fill=\"none\" stroke=\"black\" d=\"M728,-68C728,-68 624,-68 624,-68 618,-68 612,-62 612,-56 612,-56 612,-12 612,-12 612,-6 618,0 624,0 624,0 728,0 728,0 734,0 740,-6 740,-12 740,-12 740,-56 740,-56 740,-62 734,-68 728,-68\"/>\n",
       "<text text-anchor=\"start\" x=\"647\" y=\"-52.8\" font-family=\"Helvetica,sans-Serif\" font-size=\"14.00\">gini = 0.0</text>\n",
       "<text text-anchor=\"start\" x=\"636.5\" y=\"-37.8\" font-family=\"Helvetica,sans-Serif\" font-size=\"14.00\">samples = 1</text>\n",
       "<text text-anchor=\"start\" x=\"620\" y=\"-22.8\" font-family=\"Helvetica,sans-Serif\" font-size=\"14.00\">value = [0, 1, 0, 0]</text>\n",
       "<text text-anchor=\"start\" x=\"638\" y=\"-7.8\" font-family=\"Helvetica,sans-Serif\" font-size=\"14.00\">class = high</text>\n",
       "</g>\n",
       "<!-- 9&#45;&gt;10 -->\n",
       "<g id=\"edge10\" class=\"edge\">\n",
       "<title>9&#45;&gt;10</title>\n",
       "<path fill=\"none\" stroke=\"black\" d=\"M676,-103.73C676,-95.52 676,-86.86 676,-78.56\"/>\n",
       "<polygon fill=\"black\" stroke=\"black\" points=\"679.5,-78.3 676,-68.3 672.5,-78.3 679.5,-78.3\"/>\n",
       "</g>\n",
       "<!-- 11 -->\n",
       "<g id=\"node12\" class=\"node\">\n",
       "<title>11</title>\n",
       "<path fill=\"none\" stroke=\"black\" d=\"M874,-68C874,-68 770,-68 770,-68 764,-68 758,-62 758,-56 758,-56 758,-12 758,-12 758,-6 764,0 770,0 770,0 874,0 874,0 880,0 886,-6 886,-12 886,-12 886,-56 886,-56 886,-62 880,-68 874,-68\"/>\n",
       "<text text-anchor=\"start\" x=\"784.5\" y=\"-52.8\" font-family=\"Helvetica,sans-Serif\" font-size=\"14.00\">gini = 0.245</text>\n",
       "<text text-anchor=\"start\" x=\"782.5\" y=\"-37.8\" font-family=\"Helvetica,sans-Serif\" font-size=\"14.00\">samples = 7</text>\n",
       "<text text-anchor=\"start\" x=\"766\" y=\"-22.8\" font-family=\"Helvetica,sans-Serif\" font-size=\"14.00\">value = [0, 0, 1, 6]</text>\n",
       "<text text-anchor=\"start\" x=\"772\" y=\"-7.8\" font-family=\"Helvetica,sans-Serif\" font-size=\"14.00\">class = medium</text>\n",
       "</g>\n",
       "<!-- 9&#45;&gt;11 -->\n",
       "<g id=\"edge11\" class=\"edge\">\n",
       "<title>9&#45;&gt;11</title>\n",
       "<path fill=\"none\" stroke=\"black\" d=\"M730.37,-103.73C743.13,-94.15 756.72,-83.96 769.41,-74.44\"/>\n",
       "<polygon fill=\"black\" stroke=\"black\" points=\"771.7,-77.1 777.6,-68.3 767.5,-71.5 771.7,-77.1\"/>\n",
       "</g>\n",
       "</g>\n",
       "</svg>\n"
      ],
      "text/plain": [
       "<graphviz.sources.Source at 0x21c0c872ee0>"
      ]
     },
     "execution_count": 13,
     "metadata": {},
     "output_type": "execute_result"
    }
   ],
   "source": [
    "# your code here\n",
    "from sklearn.tree import export_graphviz\n",
    "import graphviz\n",
    "\n",
    "simple_dt = DecisionTreeClassifier(max_depth=3, random_state=42)\n",
    "simple_dt.fit(X_train, y_train)\n",
    "\n",
    "dot_data = export_graphviz(simple_dt, out_file=None, \n",
    "                           feature_names=X.columns,class_names=simple_dt.classes_,\n",
    "                           rounded=True,special_characters=True)  \n",
    "graph = graphviz.Source(dot_data)  \n",
    "graph"
   ]
  },
  {
   "cell_type": "markdown",
   "metadata": {},
   "source": [
    "### Question 4, Fit a random forest to the data from question 3 (20%)\n",
    "\n",
    "a) Please use the same test/train split from previous question and feel free to tune the hyper-parameters for Random Forest model using training data. The package from sklearn is here: http://scikit-learn.org/stable/modules/generated/sklearn.ensemble.RandomForestClassifier.html.\n",
    "Then please report your out of sample prediction result and compare this model's performance with 3c). (10%)"
   ]
  },
  {
   "cell_type": "code",
   "execution_count": 14,
   "metadata": {},
   "outputs": [
    {
     "name": "stdout",
     "output_type": "stream",
     "text": [
      "Random Forest Out of Sample Accuracy: 0.6153846153846154\n"
     ]
    }
   ],
   "source": [
    "# your code here\n",
    "from sklearn.ensemble import RandomForestClassifier\n",
    "from sklearn.model_selection import GridSearchCV\n",
    "\n",
    "param = {\n",
    "    'n_estimators': [10, 50, 100, 200],\n",
    "    'max_depth': [None, 10, 20, 30],\n",
    "    'min_samples_split': [2, 5, 10],\n",
    "    'min_samples_leaf': [1, 2, 4]\n",
    "}\n",
    "\n",
    "gridsearch_rf = GridSearchCV(RandomForestClassifier(random_state=42), param, cv=5, scoring='accuracy')\n",
    "gridsearch_rf.fit(X_train, y_train)\n",
    "\n",
    "best_rf = gridsearch_rf.best_estimator_\n",
    "predictions_rf = best_rf.predict(X_test)\n",
    "accuracy_rf = accuracy_score(y_test, predictions_rf)\n",
    "\n",
    "print(f\"Random Forest Out of Sample Accuracy: {accuracy_rf}\")\n"
   ]
  },
  {
   "cell_type": "code",
   "execution_count": 15,
   "metadata": {},
   "outputs": [],
   "source": [
    "#Compared with the model in part 3c which accuracy is about 0.5897, this model has higher accuracy 0.6154 for out-of-sample data sets and \n",
    "#its forecast is significantly better."
   ]
  },
  {
   "cell_type": "markdown",
   "metadata": {
    "collapsed": true
   },
   "source": [
    "b) Write one paragraph comparing the results from those two models (Random Forest vs Decision Tree) in terms of both accuracy and interpretability. (10%)"
   ]
  },
  {
   "cell_type": "markdown",
   "metadata": {
    "collapsed": true
   },
   "source": [
    "Your answer here. \n",
    "\n",
    "  - Decision trees have higher interpretability. They use tree structures to provide a structured decision-making process, and the classification process and results they output are very clear and concise. However, decision trees are prone to overfitting, resulting in suboptimal accuracy on unseen data.\n",
    "  - Random forests improve accuracy by mitigating overfitting by aggregating predictions from multiple trees. However, this ensemble nature makes random forests more difficult to interpret than individual decision trees, but greatly improves their predictive power and accuracy.\n",
    "  - The choice between these two models depends on the trade-off between interpretability and accuracy, with decision trees providing transparency and better interpretability and random forests providing enhanced predictive performance and higher accuracy."
   ]
  }
 ],
 "metadata": {
  "anaconda-cloud": {},
  "celltoolbar": "Raw Cell Format",
  "kernelspec": {
   "display_name": "Python 3 (ipykernel)",
   "language": "python",
   "name": "python3"
  },
  "language_info": {
   "codemirror_mode": {
    "name": "ipython",
    "version": 3
   },
   "file_extension": ".py",
   "mimetype": "text/x-python",
   "name": "python",
   "nbconvert_exporter": "python",
   "pygments_lexer": "ipython3",
   "version": "3.9.18"
  }
 },
 "nbformat": 4,
 "nbformat_minor": 2
}
